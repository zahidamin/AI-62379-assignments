{
 "cells": [
  {
   "cell_type": "code",
   "execution_count": 2,
   "metadata": {},
   "outputs": [
    {
     "name": "stdout",
     "output_type": "stream",
     "text": [
      "Please enter your value:54\n",
      "the value is positive\n"
     ]
    }
   ],
   "source": [
    "#Check whether the number is positive or negative\n",
    "var1 = int(input('Please enter your value:'))\n",
    "if var1 >= 0:\n",
    "    print('the value is positive')\n",
    "else:\n",
    "    print('the value is negative')\n"
   ]
  },
  {
   "cell_type": "code",
   "execution_count": 3,
   "metadata": {},
   "outputs": [
    {
     "name": "stdout",
     "output_type": "stream",
     "text": [
      "Please enter your value:-67\n",
      "the value is negative\n"
     ]
    }
   ],
   "source": [
    "var1 = int(input('Please enter your value:'))\n",
    "if var1 >= 0:\n",
    "    print('the value is positive')\n",
    "else:\n",
    "    print('the value is negative')\n"
   ]
  },
  {
   "cell_type": "code",
   "execution_count": 6,
   "metadata": {},
   "outputs": [
    {
     "name": "stdout",
     "output_type": "stream",
     "text": [
      "Please enter English subject marks:34\n",
      "Please enter Physics subject marks:5\n",
      "Please enter Maths subject marks:33\n",
      "Please enter Computer subject marks:23\n",
      "Please enter Urdu subject marks:23\n",
      "Average:23.6\n",
      "Grade: A\n"
     ]
    }
   ],
   "source": [
    "# marks of five subjects and display \n",
    "#eng = int(input('Please enter English subject marks:'))\n",
    "#phy = int(input('Please enter Physics subject marks:'))\n",
    "#math = int(input('Please enter Maths subject marks:'))\n",
    "#comp = int(input('Please enter Computer subject marks:'))\n",
    "#urdu = int(input('Please enter Urdu subject marks:'))\n",
    "#subject_marks = (eng + phy + math + comp + urdu)\n",
    "#print('Average:'+ str(subject_marks/5))\n",
    "#if subject_marks >= 90:\n",
    "#    print('Grade: A')\n",
    "#elif subject_marks >= 70 and subject_marks <= 80:\n",
    "#    print('Grade: B')\n",
    "#elif subject_marks >= 50 and subject_marks <= 60:\n",
    "#    print('Grade: C')\n",
    "#elif subject_marks >= 35 and subject_marks <= 50:\n",
    "#    print('Grade: D')\n",
    "#else:\n",
    "#    print('Fail')"
   ]
  },
  {
   "cell_type": "code",
   "execution_count": 15,
   "metadata": {},
   "outputs": [
    {
     "name": "stdout",
     "output_type": "stream",
     "text": [
      "Please enter English subject marks:76\n",
      "Please enter Physics subject marks:66\n",
      "Please enter Maths subject marks:84\n",
      "Please enter Computer subject marks:47\n",
      "Please enter Urdu subject marks:87\n",
      "Total marks:  360\n",
      "Average: 72.0\n",
      "Grade: C\n"
     ]
    }
   ],
   "source": [
    "# marks of five subjects and display grades\n",
    "eng = int(input('Please enter English subject marks:'))\n",
    "phy = int(input('Please enter Physics subject marks:'))\n",
    "math = int(input('Please enter Maths subject marks:'))\n",
    "comp = int(input('Please enter Computer subject marks:'))\n",
    "urdu = int(input('Please enter Urdu subject marks:'))\n",
    "subject_marks = str(eng + phy + math + comp + urdu)\n",
    "print('Total marks: ', subject_marks)\n",
    "\n",
    "ave = int(subject_marks)/5\n",
    "print('Average:', ave)\n",
    "\n",
    "if ave > 90:\n",
    "    print('Grade: A')\n",
    "elif ave <= 90 and ave >= 80:\n",
    "    print('Grade: B')\n",
    "elif ave < 80 and ave >= 60:\n",
    "    print('Grade: C')\n",
    "elif ave < 60 and ave >= 45:\n",
    "    print('Grade: D')\n",
    "else:\n",
    "    print('Fail')"
   ]
  },
  {
   "cell_type": "code",
   "execution_count": 6,
   "metadata": {},
   "outputs": [
    {
     "name": "stdout",
     "output_type": "stream",
     "text": [
      "Please enter English subject marks:23\n",
      "Please enter Physics subject marks:54\n",
      "Please enter Maths subject marks:33\n",
      "Please enter Computer subject marks:42\n",
      "Please enter Urdu subject marks:34\n",
      "Total marks:  186\n",
      "Average: 37.2\n",
      "Fail\n"
     ]
    }
   ],
   "source": [
    "eng = int(input('Please enter English subject marks:'))\n",
    "phy = int(input('Please enter Physics subject marks:'))\n",
    "math = int(input('Please enter Maths subject marks:'))\n",
    "comp = int(input('Please enter Computer subject marks:'))\n",
    "urdu = int(input('Please enter Urdu subject marks:'))\n",
    "subject_marks = str(eng + phy + math + comp + urdu)\n",
    "print('Total marks: ', subject_marks)\n",
    "\n",
    "ave = int(subject_marks)/5\n",
    "print('Average:', ave)\n",
    "\n",
    "if ave > 90:\n",
    "    print('Grade: A')\n",
    "elif ave <= 90 and ave >= 80:\n",
    "    print('Grade: B')\n",
    "elif ave < 80 and ave >= 60:\n",
    "    print('Grade: C')\n",
    "elif ave < 60 and ave >= 45:\n",
    "    print('Grade: D')\n",
    "else:\n",
    "    print('Fail')"
   ]
  },
  {
   "cell_type": "code",
   "execution_count": 7,
   "metadata": {},
   "outputs": [
    {
     "name": "stdout",
     "output_type": "stream",
     "text": [
      "Please enter English subject marks:89\n",
      "Please enter Physics subject marks:85\n",
      "Please enter Maths subject marks:72\n",
      "Please enter Computer subject marks:87\n",
      "Please enter Urdu subject marks:90\n",
      "Total marks:  423\n",
      "Average: 84.6\n",
      "Grade: B\n"
     ]
    }
   ],
   "source": [
    "eng = int(input('Please enter English subject marks:'))\n",
    "phy = int(input('Please enter Physics subject marks:'))\n",
    "math = int(input('Please enter Maths subject marks:'))\n",
    "comp = int(input('Please enter Computer subject marks:'))\n",
    "urdu = int(input('Please enter Urdu subject marks:'))\n",
    "subject_marks = str(eng + phy + math + comp + urdu)\n",
    "print('Total marks: ', subject_marks)\n",
    "\n",
    "ave = int(subject_marks)/5\n",
    "print('Average:', ave)\n",
    "\n",
    "if ave > 90:\n",
    "    print('Grade: A')\n",
    "elif ave <= 90 and ave >= 80:\n",
    "    print('Grade: B')\n",
    "elif ave < 80 and ave >= 60:\n",
    "    print('Grade: C')\n",
    "elif ave < 60 and ave >= 45:\n",
    "    print('Grade: D')\n",
    "else:\n",
    "    print('Fail')"
   ]
  },
  {
   "cell_type": "code",
   "execution_count": 9,
   "metadata": {},
   "outputs": [
    {
     "name": "stdout",
     "output_type": "stream",
     "text": [
      "Enter the first number: 500\n",
      "Enter the second number: 34\n",
      "Quotient is: 14\n",
      "Remainder is: 24\n"
     ]
    }
   ],
   "source": [
    "\n",
    "num1 = int(input(\"Enter the first number: \"))\n",
    "num2 = int(input(\"Enter the second number: \"))\n",
    "quotient= num1 // num2\n",
    "print(\"Quotient is:\",quotient)\n",
    "\n",
    "remainder = num1 % num2\n",
    "print(\"Remainder is:\",remainder)\n"
   ]
  },
  {
   "cell_type": "code",
   "execution_count": 10,
   "metadata": {},
   "outputs": [
    {
     "name": "stdout",
     "output_type": "stream",
     "text": [
      "Enter the first number: 500\n",
      "Enter the second number: 34\n",
      "Quotient is:14\n",
      "Remainder is:24\n"
     ]
    }
   ],
   "source": [
    "\n",
    "num1 = int(input(\"Enter the first number: \"))\n",
    "num2 = int(input(\"Enter the second number: \"))\n",
    "quotient = num1 // num2\n",
    "print(\"Quotient is:\" + str(quotient))\n",
    "\n",
    "remainder = num1 % num2\n",
    "print(\"Remainder is:\" + str(remainder))"
   ]
  },
  {
   "cell_type": "code",
   "execution_count": 14,
   "metadata": {},
   "outputs": [
    {
     "name": "stdout",
     "output_type": "stream",
     "text": [
      "1\n",
      "5\n",
      "7\n",
      "11\n",
      "13\n",
      "17\n",
      "19\n",
      "23\n",
      "25\n",
      "29\n",
      "31\n",
      "35\n",
      "37\n",
      "41\n",
      "43\n",
      "47\n",
      "49\n"
     ]
    }
   ],
   "source": [
    "\n",
    "for num in range(0,51):\n",
    "    if(num % 2 != 0  and num % 3 != 0):\n",
    "        print(num)"
   ]
  },
  {
   "cell_type": "code",
   "execution_count": 1,
   "metadata": {},
   "outputs": [
    {
     "name": "stdout",
     "output_type": "stream",
     "text": [
      "0\n",
      "6\n",
      "12\n",
      "18\n",
      "24\n",
      "30\n",
      "36\n",
      "42\n",
      "48\n"
     ]
    }
   ],
   "source": [
    "for num in range(0,51):\n",
    "    if(num % 2 == 0  and num % 3 == 0):\n",
    "        print(num)"
   ]
  },
  {
   "cell_type": "code",
   "execution_count": 3,
   "metadata": {},
   "outputs": [
    {
     "name": "stdout",
     "output_type": "stream",
     "text": [
      "Enter your lucky number: 26\n",
      "Enter any number: 55\n",
      "Value for 1st variable:  107\n",
      "Value for 2nd variable:  -26\n"
     ]
    }
   ],
   "source": [
    "lucky_num = int(input('Enter your lucky number: ')) #1st var.\n",
    "any_num = int(input('Enter any number: ')) #2nd var.\n",
    "lucky_num = lucky_num + any_num            #1st = 1st + 2nd \n",
    "any_num = any_num - lucky_num              #2nd = 2nd - 1st\n",
    "lucky_num = lucky_num - any_num            #1st = 1st - 2nd \n",
    "print('Value for 1st variable: ', lucky_num)\n",
    "print('Value for 2nd variable: ', any_num)"
   ]
  },
  {
   "cell_type": "code",
   "execution_count": 5,
   "metadata": {},
   "outputs": [
    {
     "name": "stdout",
     "output_type": "stream",
     "text": [
      "Enter first side: 4\n",
      "Enter second side: 5\n",
      "Enter third side: 6\n",
      "Area of the triangle is:  9.92\n"
     ]
    }
   ],
   "source": [
    "side1 = int(input(\"Enter first side: \"))\n",
    "side2 = int(input(\"Enter second side: \"))\n",
    "side3 = int(input(\"Enter third side: \"))\n",
    "s=(side1 + side2 + side3)/2\n",
    "area = math.sqrt(s*(s-a)*(s-b)*(s-c))\n",
    "print(\"Area of the triangle is: \",round(area,2))"
   ]
  },
  {
   "cell_type": "code",
   "execution_count": null,
   "metadata": {},
   "outputs": [],
   "source": []
  }
 ],
 "metadata": {
  "kernelspec": {
   "display_name": "Python 3",
   "language": "python",
   "name": "python3"
  },
  "language_info": {
   "codemirror_mode": {
    "name": "ipython",
    "version": 3
   },
   "file_extension": ".py",
   "mimetype": "text/x-python",
   "name": "python",
   "nbconvert_exporter": "python",
   "pygments_lexer": "ipython3",
   "version": "3.7.4"
  }
 },
 "nbformat": 4,
 "nbformat_minor": 2
}
