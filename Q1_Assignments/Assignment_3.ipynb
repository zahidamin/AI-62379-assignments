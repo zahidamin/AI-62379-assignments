{
 "cells": [
  {
   "cell_type": "code",
   "execution_count": 2,
   "metadata": {},
   "outputs": [
    {
     "name": "stdout",
     "output_type": "stream",
     "text": [
      "Zahid Amin\n",
      "PIAIC62379\n",
      "Artificial Intelligence\n",
      "3\n",
      "6.9\n"
     ]
    }
   ],
   "source": [
    "student = \"Zahid Amin\"\n",
    "id = \"PIAIC62379\"\n",
    "course = \"Artificial Intelligence\"\n",
    "batch = 3\n",
    "height = 6.9\n",
    "print(student, id, course, batch, height, sep='\\n')"
   ]
  },
  {
   "cell_type": "code",
   "execution_count": 3,
   "metadata": {},
   "outputs": [
    {
     "name": "stdout",
     "output_type": "stream",
     "text": [
      "Student name: Zahid Amin Student ID: PIAIC62379 Course: Artificial Intelligence Batch: 3 Height: 6.900000\n"
     ]
    }
   ],
   "source": [
    "print('Student name: %s Student ID: %s Course: %s Batch: %d Height: %f'%(student,id,course,batch,height))"
   ]
  },
  {
   "cell_type": "code",
   "execution_count": 8,
   "metadata": {},
   "outputs": [
    {
     "name": "stdout",
     "output_type": "stream",
     "text": [
      "Student name: Zahid Amin \n",
      "Student ID: PIAIC62379 \n",
      "Course: Artificial Intelligence \n",
      "Batch: 3 \n",
      "Height: 6.900000\n"
     ]
    }
   ],
   "source": [
    "print('Student name: %s \\nStudent ID: %s \\nCourse: %s \\nBatch: %d \\nHeight: %f'%(student,id,course,batch,height))"
   ]
  },
  {
   "cell_type": "code",
   "execution_count": 25,
   "metadata": {},
   "outputs": [
    {
     "name": "stdout",
     "output_type": "stream",
     "text": [
      "Student name:\tZahid Amin\tStudent ID:\tPIAIC62379\tCourse:\tArtificial Intelligence\tBatch:\t3\n"
     ]
    }
   ],
   "source": [
    "print('Student name:\\t' + student + '\\tStudent ID:\\t' + id + '\\tCourse:\\t' + course + '\\tBatch:\\t' + str(batch))"
   ]
  },
  {
   "cell_type": "code",
   "execution_count": 32,
   "metadata": {},
   "outputs": [
    {
     "name": "stdout",
     "output_type": "stream",
     "text": [
      "Student name:Zahid Amin\n",
      "Student ID:PIAIC62379\n",
      "Course:Artificial Intelligence\n",
      "Batch:3\n"
     ]
    }
   ],
   "source": [
    "print('Student name:' + student + '\\nStudent ID:' + id + '\\nCourse:' + course + '\\nBatch:' + str(batch))"
   ]
  },
  {
   "cell_type": "code",
   "execution_count": 35,
   "metadata": {},
   "outputs": [
    {
     "name": "stdout",
     "output_type": "stream",
     "text": [
      "Student name:Zahid Amin Student ID: PIAIC62379 Batch: 3\n"
     ]
    }
   ],
   "source": [
    "print(f'Student name:{student} Student ID: {id} Batch: {batch}')"
   ]
  },
  {
   "cell_type": "code",
   "execution_count": 36,
   "metadata": {},
   "outputs": [
    {
     "name": "stdout",
     "output_type": "stream",
     "text": [
      "Student name:Zahid Amin \n",
      "Student ID: PIAIC62379 \n",
      "Batch: 3\n"
     ]
    }
   ],
   "source": [
    "print(f'Student name:{student} \\nStudent ID: {id} \\nBatch: {batch}')"
   ]
  },
  {
   "cell_type": "code",
   "execution_count": 37,
   "metadata": {},
   "outputs": [
    {
     "name": "stdout",
     "output_type": "stream",
     "text": [
      "Student name:Zahid Amin Student ID: PIAIC62379 Batch: 3\n"
     ]
    }
   ],
   "source": [
    "print('Student name:{} Student ID: {} Batch: {}'.format(student,id,batch))"
   ]
  },
  {
   "cell_type": "code",
   "execution_count": 38,
   "metadata": {},
   "outputs": [
    {
     "name": "stdout",
     "output_type": "stream",
     "text": [
      "Student name:Zahid Amin \n",
      "Student ID: PIAIC62379 \n",
      "Batch: 3\n"
     ]
    }
   ],
   "source": [
    "print('Student name:{} \\nStudent ID: {} \\nBatch: {}'.format(student,id,batch))"
   ]
  },
  {
   "cell_type": "code",
   "execution_count": 69,
   "metadata": {},
   "outputs": [
    {
     "name": "stdout",
     "output_type": "stream",
     "text": [
      "Student name:3 \n",
      "Student ID: PIAIC62379 \n",
      "Batch: Zahid Amin\n"
     ]
    }
   ],
   "source": [
    "print('Student name:{2} \\nStudent ID: {1} \\nBatch: {0}'.format(student,id,batch))"
   ]
  },
  {
   "cell_type": "code",
   "execution_count": 42,
   "metadata": {},
   "outputs": [
    {
     "name": "stdout",
     "output_type": "stream",
     "text": [
      "Student name:3 \n",
      "Student ID: 3 \n",
      "Batch: 3\n"
     ]
    }
   ],
   "source": [
    "print('Student name:{c} \\nStudent ID: {c} \\nBatch: {c}'.format(a=student,b=id,c=batch))"
   ]
  },
  {
   "cell_type": "code",
   "execution_count": 50,
   "metadata": {},
   "outputs": [
    {
     "name": "stdout",
     "output_type": "stream",
     "text": [
      "Student name:'Zahid Amin' \n",
      "Student ID: 'PIAIC62379' \n",
      "Batch: 3\n"
     ]
    }
   ],
   "source": [
    "print('Student name:%r \\nStudent ID: %r \\nBatch: %a' %(student,id,batch))"
   ]
  },
  {
   "cell_type": "code",
   "execution_count": 51,
   "metadata": {},
   "outputs": [
    {
     "name": "stdout",
     "output_type": "stream",
     "text": [
      "The name of the student is Zahid Amin\n"
     ]
    }
   ],
   "source": [
    "print('The name of the student is {student}'.format(student = \"Zahid Amin\"))"
   ]
  },
  {
   "cell_type": "code",
   "execution_count": 65,
   "metadata": {},
   "outputs": [
    {
     "name": "stdout",
     "output_type": "stream",
     "text": [
      "The name of the student is Zahid Amin. Zahid Amin is studying the course AI in batch 3 in center Behria University Islamabad.\n"
     ]
    }
   ],
   "source": [
    "print('The name of the student is {student}. {student} is studying the course {course} in \\\n",
    "batch {batch} in center {center}.'.format\\\n",
    "      (student = 'Zahid Amin', course='AI', batch='3', center='Behria University Islamabad'))"
   ]
  },
  {
   "cell_type": "code",
   "execution_count": 82,
   "metadata": {},
   "outputs": [
    {
     "name": "stdout",
     "output_type": "stream",
     "text": [
      "The name of the student is Zahid Amin.Zahid Amin is studying the course Artificial Intelligence in batch 3 in center Behria University Islamabad\n"
     ]
    }
   ],
   "source": [
    "student = \"Zahid Amin\"\n",
    "course = \"Artificial Intelligence\"\n",
    "batch = '3'\n",
    "center= 'Behria University Islamabad'\n",
    "print('The name of the student is %s.\\\n",
    "%s is studying the course %s in batch %s in center %s' %(student, student, course, batch, center))"
   ]
  },
  {
   "cell_type": "code",
   "execution_count": null,
   "metadata": {},
   "outputs": [],
   "source": []
  },
  {
   "cell_type": "code",
   "execution_count": null,
   "metadata": {},
   "outputs": [],
   "source": []
  }
 ],
 "metadata": {
  "kernelspec": {
   "display_name": "Python 3",
   "language": "python",
   "name": "python3"
  },
  "language_info": {
   "codemirror_mode": {
    "name": "ipython",
    "version": 3
   },
   "file_extension": ".py",
   "mimetype": "text/x-python",
   "name": "python",
   "nbconvert_exporter": "python",
   "pygments_lexer": "ipython3",
   "version": "3.7.4"
  }
 },
 "nbformat": 4,
 "nbformat_minor": 2
}
