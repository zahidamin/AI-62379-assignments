{
 "cells": [
  {
   "cell_type": "code",
   "execution_count": 4,
   "metadata": {},
   "outputs": [
    {
     "name": "stdout",
     "output_type": "stream",
     "text": [
      "Subject Name: AI for everyone\n",
      "Rank: 557\n",
      "Overall rank:  {'AI for everyone': 557}\n"
     ]
    }
   ],
   "source": [
    "subject = input('Subject Name: ')\n",
    "rank= int(input('Rank: '))\n",
    "subject_rank = {}\n",
    "subject_rank.update({subject : rank})\n",
    "print('Overall rank: ', subject_rank)"
   ]
  },
  {
   "cell_type": "code",
   "execution_count": 5,
   "metadata": {},
   "outputs": [],
   "source": [
    "overall_rank = {'Subject':'AI for everyone', 'Rank' : 557}"
   ]
  },
  {
   "cell_type": "code",
   "execution_count": 6,
   "metadata": {},
   "outputs": [
    {
     "data": {
      "text/plain": [
       "{'Subject': 'AI for everyone', 'Rank': 557}"
      ]
     },
     "execution_count": 6,
     "metadata": {},
     "output_type": "execute_result"
    }
   ],
   "source": [
    "overall_rank"
   ]
  },
  {
   "cell_type": "code",
   "execution_count": 7,
   "metadata": {},
   "outputs": [],
   "source": [
    "overall_rank.update({'Overall percentile': 64})"
   ]
  },
  {
   "cell_type": "code",
   "execution_count": 8,
   "metadata": {},
   "outputs": [
    {
     "data": {
      "text/plain": [
       "{'Subject': 'AI for everyone', 'Rank': 557, 'Overall percentile': 64}"
      ]
     },
     "execution_count": 8,
     "metadata": {},
     "output_type": "execute_result"
    }
   ],
   "source": [
    "overall_rank"
   ]
  },
  {
   "cell_type": "code",
   "execution_count": 12,
   "metadata": {},
   "outputs": [],
   "source": [
    "overall_rank.update({'Batch': 3})"
   ]
  },
  {
   "cell_type": "code",
   "execution_count": 14,
   "metadata": {},
   "outputs": [
    {
     "data": {
      "text/plain": [
       "{'Subject': 'AI for everyone',\n",
       " 'Rank': 557,\n",
       " 'Overall percentile': 64,\n",
       " 'Batch': 3}"
      ]
     },
     "execution_count": 14,
     "metadata": {},
     "output_type": "execute_result"
    }
   ],
   "source": [
    "overall_rank"
   ]
  },
  {
   "cell_type": "code",
   "execution_count": 1,
   "metadata": {},
   "outputs": [
    {
     "name": "stdout",
     "output_type": "stream",
     "text": [
      "Enter your Key value: overall percentile\n",
      "\"Yes\", the Key is present \n"
     ]
    }
   ],
   "source": [
    "marks_sheet = {'subject': 'AI for everyone',\n",
    " 'rank': 557,\n",
    " 'overall percentile': 64,\n",
    " 'batch': 3}\n",
    "check_list = input('Enter your Key value: ')\n",
    "if check_list in marks_sheet:\n",
    "    print('\"Yes\", the Key is present ')\n",
    "else:\n",
    "    print('Key not found')"
   ]
  },
  {
   "cell_type": "code",
   "execution_count": 2,
   "metadata": {},
   "outputs": [
    {
     "name": "stdout",
     "output_type": "stream",
     "text": [
      "Enter your Key value: roll no\n",
      "Key not found\n"
     ]
    }
   ],
   "source": [
    "marks_sheet = {'subject': 'AI for everyone',\n",
    " 'rank': 557,\n",
    " 'overall percentile': 64,\n",
    " 'batch': 3}\n",
    "check_list = input('Enter your Key value: ')\n",
    "if check_list in marks_sheet:\n",
    "    print('\"Yes\", the Key is present ')\n",
    "else:\n",
    "    print('Key not found')"
   ]
  },
  {
   "cell_type": "code",
   "execution_count": 1,
   "metadata": {},
   "outputs": [
    {
     "name": "stdout",
     "output_type": "stream",
     "text": [
      "Enter your Key value: rank\n",
      "\"Yes\", the Key RANK is present \n"
     ]
    }
   ],
   "source": [
    "marks_sheet = {'subject': 'AI for everyone',\n",
    " 'rank': 557,\n",
    " 'overall percentile': 64,\n",
    " 'batch': 3}\n",
    "check_list = input('Enter your Key value: ')\n",
    "if check_list in marks_sheet:\n",
    "    print('\"Yes\", the Key', check_list.upper(), 'is present ')\n",
    "else:\n",
    "    print('Key not found')"
   ]
  },
  {
   "cell_type": "code",
   "execution_count": 9,
   "metadata": {},
   "outputs": [
    {
     "name": "stdout",
     "output_type": "stream",
     "text": [
      "Enter your Key value: rank\n",
      "\"Yes\", the Key RANK is present and the value is: 557\n"
     ]
    }
   ],
   "source": [
    "marks_sheet = {'subject': 'AI for everyone',\n",
    " 'rank': 557,\n",
    " 'overall percentile': 64,\n",
    " 'batch': 3}\n",
    "check_list = input('Enter your Key value: ')\n",
    "if check_list in marks_sheet.keys():\n",
    "    print('\"Yes\", the Key',check_list.upper(),'is present and the value is:', marks_sheet[check_list])\n",
    "else:\n",
    "    print('Key not found')"
   ]
  },
  {
   "cell_type": "code",
   "execution_count": 10,
   "metadata": {},
   "outputs": [
    {
     "name": "stdout",
     "output_type": "stream",
     "text": [
      "Enter your Key value: roll no\n",
      "Key not found\n"
     ]
    }
   ],
   "source": [
    "marks_sheet = {'subject': 'AI for everyone',\n",
    " 'rank': 557,\n",
    " 'overall percentile': 64,\n",
    " 'batch': 3}\n",
    "check_list = input('Enter your Key value: ')\n",
    "if check_list in marks_sheet.keys():\n",
    "    print('\"Yes\", the Key',check_list.upper(),'is present and the value is:', marks_sheet[check_list])\n",
    "else:\n",
    "    print('Key not found')"
   ]
  },
  {
   "cell_type": "code",
   "execution_count": 14,
   "metadata": {},
   "outputs": [
    {
     "name": "stdout",
     "output_type": "stream",
     "text": [
      "Dear user please enter a number: 1\n",
      "{1: 1}\n"
     ]
    }
   ],
   "source": [
    "n = int(input('Dear user please enter a number: '))\n",
    "for x in range(1, n + 1):\n",
    "    dictionary = {x:x*x}\n",
    "    print(dictionary)"
   ]
  },
  {
   "cell_type": "code",
   "execution_count": 15,
   "metadata": {},
   "outputs": [
    {
     "name": "stdout",
     "output_type": "stream",
     "text": [
      "Dear user please enter a number: 9\n",
      "{1: 1}\n",
      "{2: 4}\n",
      "{3: 9}\n",
      "{4: 16}\n",
      "{5: 25}\n",
      "{6: 36}\n",
      "{7: 49}\n",
      "{8: 64}\n",
      "{9: 81}\n"
     ]
    }
   ],
   "source": [
    "n = int(input('Dear user please enter a number: '))\n",
    "for x in range(1, n + 1):\n",
    "    dictionary = {x:x*x}\n",
    "    print(dictionary)"
   ]
  },
  {
   "cell_type": "code",
   "execution_count": 6,
   "metadata": {},
   "outputs": [
    {
     "name": "stdout",
     "output_type": "stream",
     "text": [
      "Please enter English subject marks:45\n",
      "Please enter Physics subject marks:65\n",
      "Please enter Maths subject marks:44\n",
      "Please enter Computer subject marks:63\n",
      "Please enter Urdu subject marks:75\n",
      "Marks sheet: {'english': 45, 'physics': 65, 'maths': 44, 'computer': 63, 'urdu': 75}\n",
      "Total marks:  292\n"
     ]
    }
   ],
   "source": [
    "english = int(input('Please enter English subject marks:'))\n",
    "physics = int(input('Please enter Physics subject marks:'))\n",
    "maths = int(input('Please enter Maths subject marks:'))\n",
    "computer = int(input('Please enter Computer subject marks:'))\n",
    "urdu = int(input('Please enter Urdu subject marks:'))\n",
    "subject_marks = {\n",
    "    'English' : english, \n",
    "    'Physics' : physics,\n",
    "    'Maths' : maths,\n",
    "    'Computer': computer,\n",
    "    'Urdu': urdu\n",
    "}\n",
    "\n",
    "print('Marks sheet:', subject_marks)\n",
    "\n",
    "print('Total marks: ' , sum(subject_marks.values()))"
   ]
  },
  {
   "cell_type": "code",
   "execution_count": 43,
   "metadata": {},
   "outputs": [
    {
     "name": "stdout",
     "output_type": "stream",
     "text": [
      "2500\n"
     ]
    }
   ],
   "source": [
    "item_quantity = {'english': 10, 'physics': 10, 'maths': 5, 'computer': 5}\n",
    "total_items = 1\n",
    "for i in item_quantity:\n",
    "    total_items = total_items * item_quantity [i]\n",
    "print(total_items)"
   ]
  },
  {
   "cell_type": "code",
   "execution_count": 44,
   "metadata": {},
   "outputs": [
    {
     "name": "stdout",
     "output_type": "stream",
     "text": [
      "40\n"
     ]
    }
   ],
   "source": [
    "list_1 = {'working hours': 8, 'workking days': 5}\n",
    "total_time = 1\n",
    "for i in list_1:    \n",
    "    total_time = total_time * list_1[i]\n",
    "print(total_time)"
   ]
  },
  {
   "cell_type": "code",
   "execution_count": 51,
   "metadata": {},
   "outputs": [
    {
     "name": "stdout",
     "output_type": "stream",
     "text": [
      "Enter unwanted subject: physics\n",
      "{'english': 10, 'maths': 5, 'computer': 5}\n"
     ]
    }
   ],
   "source": [
    "item_quantity = {'english': 10, 'physics': 10, 'maths': 5, 'computer': 5}\n",
    "remarks = input('Enter unwanted subject: ')\n",
    "if remarks in item_quantity:\n",
    "    del item_quantity[remarks]\n",
    "print(item_quantity)"
   ]
  },
  {
   "cell_type": "code",
   "execution_count": 53,
   "metadata": {},
   "outputs": [
    {
     "name": "stdout",
     "output_type": "stream",
     "text": [
      "Enter unwanted subject: english\n",
      "{'physics': 10, 'maths': 5, 'computer': 5}\n"
     ]
    }
   ],
   "source": [
    "item_quantity = {'english': 10, 'physics': 10, 'maths': 5, 'computer': 5}\n",
    "remarks = input('Enter unwanted subject: ')\n",
    "if remarks in item_quantity:\n",
    "    del item_quantity[remarks]\n",
    "print(item_quantity)"
   ]
  },
  {
   "cell_type": "code",
   "execution_count": 54,
   "metadata": {},
   "outputs": [
    {
     "name": "stdout",
     "output_type": "stream",
     "text": [
      "Enter unwanted subject: computer\n",
      "{'english': 10, 'physics': 10, 'maths': 5}\n"
     ]
    }
   ],
   "source": [
    "item_quantity = {'english': 10, 'physics': 10, 'maths': 5, 'computer': 5}\n",
    "remarks = input('Enter unwanted subject: ')\n",
    "if remarks in item_quantity:\n",
    "    del item_quantity[remarks]\n",
    "print(item_quantity)"
   ]
  },
  {
   "cell_type": "code",
   "execution_count": 6,
   "metadata": {},
   "outputs": [
    {
     "name": "stdout",
     "output_type": "stream",
     "text": [
      "Please enter number of items: 3\n",
      "List of keys: \n",
      "Enter keys: Name\n",
      "Enter keys: Course\n",
      "Enter keys: Batch\n",
      "List of values: \n",
      "Enter values: Zahid\n",
      "Enter values: AI \n",
      "Enter values: 3\n",
      "The dictionary is:  {'Name': 'Zahid', 'Course': 'AI ', 'Batch': '3'}\n"
     ]
    }
   ],
   "source": [
    "list_of_keys=[]\n",
    "list_of_values=[]\n",
    "items = int(input(\"Please enter number of items: \"))\n",
    "\n",
    "print(\"List of keys: \")\n",
    "for n in range(items):\n",
    "    keys = input(\"Enter keys: \")\n",
    "    list_of_keys.append(keys)\n",
    "\n",
    "print(\"List of values: \")\n",
    "for n in range(items):\n",
    "    values = input(\"Enter values: \")\n",
    "    list_of_values.append(values)\n",
    "dictionary_items = dict(zip(list_of_keys,list_of_values))\n",
    "print(\"The dictionary is: \", dictionary_items)"
   ]
  },
  {
   "cell_type": "code",
   "execution_count": null,
   "metadata": {},
   "outputs": [],
   "source": []
  }
 ],
 "metadata": {
  "kernelspec": {
   "display_name": "Python 3",
   "language": "python",
   "name": "python3"
  },
  "language_info": {
   "codemirror_mode": {
    "name": "ipython",
    "version": 3
   },
   "file_extension": ".py",
   "mimetype": "text/x-python",
   "name": "python",
   "nbconvert_exporter": "python",
   "pygments_lexer": "ipython3",
   "version": "3.7.4"
  }
 },
 "nbformat": 4,
 "nbformat_minor": 2
}
